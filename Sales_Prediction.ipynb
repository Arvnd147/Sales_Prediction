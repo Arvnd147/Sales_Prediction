{
 "cells": [
  {
   "cell_type": "markdown",
   "id": "8e62f3e9",
   "metadata": {},
   "source": [
    "# Sales Prediction Using Machine Learning\n"
   ]
  },
  {
   "cell_type": "markdown",
   "id": "87239468",
   "metadata": {},
   "source": [
    "###### Machine Learning is a powerful tool that can be used to predict sales and improve business outcomes."
   ]
  },
  {
   "cell_type": "markdown",
   "id": "a207497e",
   "metadata": {},
   "source": [
    "###### Machine Learning Methods for sales prediction:\n",
    "1. Regression Analysis\n",
    "2. Time Series Analysis\n",
    "3. Decision Based Algorithms: Random Forest, Gradient Boosting\n",
    "4. Neural Networks\n",
    "5. Clustering Algorithms"
   ]
  },
  {
   "cell_type": "markdown",
   "id": "457c0191",
   "metadata": {},
   "source": [
    "# 1. Importing Libraries"
   ]
  },
  {
   "cell_type": "code",
   "execution_count": 1,
   "id": "b0a79a7f",
   "metadata": {
    "scrolled": false
   },
   "outputs": [],
   "source": [
    "# EDA libraries\n",
    "\n",
    "import pandas as pd\n",
    "import numpy as np\n",
    "\n",
    "import matplotlib.colors as col\n",
    "from mpl_toolkits.mplot3d import Axes3D\n",
    "import matplotlib.pyplot as plt\n",
    "import seaborn as sns\n",
    "%matplotlib inline\n",
    "\n",
    "import datetime\n",
    "from pathlib import Path\n",
    "import random\n",
    "\n",
    "# Scikit-Learn models:\n",
    "\n",
    "from sklearn.preprocessing import MinMaxScaler\n",
    "from sklearn.linear_model import LinearRegression\n",
    "from sklearn.metrics import mean_squared_error, mean_absolute_error, r2_score\n",
    "from sklearn.ensemble import RandomForestRegressor\n",
    "from xgboost.sklearn import XGBRegressor\n",
    "from sklearn.model_selection import KFold, cross_val_score, train_test_split\n",
    "\n",
    "# LSTM: (neural network)\n",
    "\n",
    "import keras\n",
    "from keras.layers import Dense\n",
    "from keras.models import Sequential\n",
    "from keras.callbacks import EarlyStopping\n",
    "from keras.utils import to_categorical\n",
    "from keras.layers import LSTM\n",
    "\n",
    "# ARIMA Model\n",
    "\n",
    "import statsmodels.tsa.api as smt\n",
    "import statsmodels.api as sm\n",
    "from statsmodels.tools.eval_measures import rmse\n",
    "\n",
    "import pickle\n",
    "import warnings"
   ]
  },
  {
   "cell_type": "markdown",
   "id": "3b0b8be8",
   "metadata": {},
   "source": [
    "# 2. Loading and Exploration of the Data"
   ]
  },
  {
   "cell_type": "markdown",
   "id": "d181057b",
   "metadata": {},
   "source": [
    "We use a sample dataset from Kaggle for this demonstration. Each row reflects a day's worth of sales at one of 10 stores in the most basic form."
   ]
  },
  {
   "cell_type": "markdown",
   "id": "3fcd2682",
   "metadata": {},
   "source": [
    "Our objective is to forecast monthly sales, we will start by adding all stores and days to get the monthly sales figure"
   ]
  },
  {
   "cell_type": "markdown",
   "id": "a0db91d9",
   "metadata": {},
   "source": [
    "We will create a function that will be used for the extraction of a CSV file and then converting it to pandas data frame."
   ]
  },
  {
   "cell_type": "code",
   "execution_count": 2,
   "id": "3e56a477",
   "metadata": {},
   "outputs": [
    {
     "data": {
      "text/html": [
       "<div>\n",
       "<style scoped>\n",
       "    .dataframe tbody tr th:only-of-type {\n",
       "        vertical-align: middle;\n",
       "    }\n",
       "\n",
       "    .dataframe tbody tr th {\n",
       "        vertical-align: top;\n",
       "    }\n",
       "\n",
       "    .dataframe thead th {\n",
       "        text-align: right;\n",
       "    }\n",
       "</style>\n",
       "<table border=\"1\" class=\"dataframe\">\n",
       "  <thead>\n",
       "    <tr style=\"text-align: right;\">\n",
       "      <th></th>\n",
       "      <th>date</th>\n",
       "      <th>store</th>\n",
       "      <th>item</th>\n",
       "      <th>sales</th>\n",
       "    </tr>\n",
       "  </thead>\n",
       "  <tbody>\n",
       "    <tr>\n",
       "      <th>912995</th>\n",
       "      <td>2017-12-27</td>\n",
       "      <td>10</td>\n",
       "      <td>50</td>\n",
       "      <td>63</td>\n",
       "    </tr>\n",
       "    <tr>\n",
       "      <th>912996</th>\n",
       "      <td>2017-12-28</td>\n",
       "      <td>10</td>\n",
       "      <td>50</td>\n",
       "      <td>59</td>\n",
       "    </tr>\n",
       "    <tr>\n",
       "      <th>912997</th>\n",
       "      <td>2017-12-29</td>\n",
       "      <td>10</td>\n",
       "      <td>50</td>\n",
       "      <td>74</td>\n",
       "    </tr>\n",
       "    <tr>\n",
       "      <th>912998</th>\n",
       "      <td>2017-12-30</td>\n",
       "      <td>10</td>\n",
       "      <td>50</td>\n",
       "      <td>62</td>\n",
       "    </tr>\n",
       "    <tr>\n",
       "      <th>912999</th>\n",
       "      <td>2017-12-31</td>\n",
       "      <td>10</td>\n",
       "      <td>50</td>\n",
       "      <td>82</td>\n",
       "    </tr>\n",
       "  </tbody>\n",
       "</table>\n",
       "</div>"
      ],
      "text/plain": [
       "              date  store  item  sales\n",
       "912995  2017-12-27     10    50     63\n",
       "912996  2017-12-28     10    50     59\n",
       "912997  2017-12-29     10    50     74\n",
       "912998  2017-12-30     10    50     62\n",
       "912999  2017-12-31     10    50     82"
      ]
     },
     "execution_count": 2,
     "metadata": {},
     "output_type": "execute_result"
    }
   ],
   "source": [
    "def load_data(file_name):\n",
    "    \"\"\" Returns a pandas dataframe from a csv file\"\"\"\n",
    "    return pd.read_csv(file_name)\n",
    "\n",
    "df_s = load_data('sales_data.csv')\n",
    "\n",
    "df_s.tail()"
   ]
  },
  {
   "cell_type": "code",
   "execution_count": 3,
   "id": "3e24024c",
   "metadata": {},
   "outputs": [
    {
     "data": {
      "text/html": [
       "<div>\n",
       "<style scoped>\n",
       "    .dataframe tbody tr th:only-of-type {\n",
       "        vertical-align: middle;\n",
       "    }\n",
       "\n",
       "    .dataframe tbody tr th {\n",
       "        vertical-align: top;\n",
       "    }\n",
       "\n",
       "    .dataframe thead th {\n",
       "        text-align: right;\n",
       "    }\n",
       "</style>\n",
       "<table border=\"1\" class=\"dataframe\">\n",
       "  <thead>\n",
       "    <tr style=\"text-align: right;\">\n",
       "      <th></th>\n",
       "      <th>store</th>\n",
       "      <th>item</th>\n",
       "      <th>sales</th>\n",
       "    </tr>\n",
       "  </thead>\n",
       "  <tbody>\n",
       "    <tr>\n",
       "      <th>count</th>\n",
       "      <td>913000.000000</td>\n",
       "      <td>913000.000000</td>\n",
       "      <td>913000.000000</td>\n",
       "    </tr>\n",
       "    <tr>\n",
       "      <th>mean</th>\n",
       "      <td>5.500000</td>\n",
       "      <td>25.500000</td>\n",
       "      <td>52.250287</td>\n",
       "    </tr>\n",
       "    <tr>\n",
       "      <th>std</th>\n",
       "      <td>2.872283</td>\n",
       "      <td>14.430878</td>\n",
       "      <td>28.801144</td>\n",
       "    </tr>\n",
       "    <tr>\n",
       "      <th>min</th>\n",
       "      <td>1.000000</td>\n",
       "      <td>1.000000</td>\n",
       "      <td>0.000000</td>\n",
       "    </tr>\n",
       "    <tr>\n",
       "      <th>25%</th>\n",
       "      <td>3.000000</td>\n",
       "      <td>13.000000</td>\n",
       "      <td>30.000000</td>\n",
       "    </tr>\n",
       "    <tr>\n",
       "      <th>50%</th>\n",
       "      <td>5.500000</td>\n",
       "      <td>25.500000</td>\n",
       "      <td>47.000000</td>\n",
       "    </tr>\n",
       "    <tr>\n",
       "      <th>75%</th>\n",
       "      <td>8.000000</td>\n",
       "      <td>38.000000</td>\n",
       "      <td>70.000000</td>\n",
       "    </tr>\n",
       "    <tr>\n",
       "      <th>max</th>\n",
       "      <td>10.000000</td>\n",
       "      <td>50.000000</td>\n",
       "      <td>231.000000</td>\n",
       "    </tr>\n",
       "  </tbody>\n",
       "</table>\n",
       "</div>"
      ],
      "text/plain": [
       "               store           item          sales\n",
       "count  913000.000000  913000.000000  913000.000000\n",
       "mean        5.500000      25.500000      52.250287\n",
       "std         2.872283      14.430878      28.801144\n",
       "min         1.000000       1.000000       0.000000\n",
       "25%         3.000000      13.000000      30.000000\n",
       "50%         5.500000      25.500000      47.000000\n",
       "75%         8.000000      38.000000      70.000000\n",
       "max        10.000000      50.000000     231.000000"
      ]
     },
     "execution_count": 3,
     "metadata": {},
     "output_type": "execute_result"
    }
   ],
   "source": [
    "df_s.describe()"
   ]
  },
  {
   "cell_type": "code",
   "execution_count": 4,
   "id": "a1b74f12",
   "metadata": {},
   "outputs": [
    {
     "name": "stdout",
     "output_type": "stream",
     "text": [
      "<class 'pandas.core.frame.DataFrame'>\n",
      "RangeIndex: 913000 entries, 0 to 912999\n",
      "Data columns (total 4 columns):\n",
      " #   Column  Non-Null Count   Dtype \n",
      "---  ------  --------------   ----- \n",
      " 0   date    913000 non-null  object\n",
      " 1   store   913000 non-null  int64 \n",
      " 2   item    913000 non-null  int64 \n",
      " 3   sales   913000 non-null  int64 \n",
      "dtypes: int64(3), object(1)\n",
      "memory usage: 27.9+ MB\n",
      "None\n"
     ]
    },
    {
     "data": {
      "image/png": "[encoded data removed]",
      "text/plain": [
       "<Figure size 640x480 with 1 Axes>"
      ]
     },
     "metadata": {},
     "output_type": "display_data"
    }
   ],
   "source": [
    "# to view the basic statistical details about the dataset:\n",
    "\n",
    "df_s['sales'].plot()\n",
    "\n",
    "print(df_s.info())"
   ]
  },
  {
   "cell_type": "markdown",
   "id": "29d599a4",
   "metadata": {},
   "source": [
    "The below function returns a dataframe where each row represents total sales for a given month.  \n",
    "Columns include 'date' by month and 'sales'"
   ]
  },
  {
   "cell_type": "code",
   "execution_count": 5,
   "id": "a8caa3d0",
   "metadata": {},
   "outputs": [],
   "source": [
    "def monthlyORyears_sales(data,time=['monthly','years']):\n",
    "    dataD = data.copy()\n",
    "    \n",
    "    dataD['date'] = pd.to_datetime(dataD['date'])\n",
    "    \n",
    "    if 'monthly' in time:\n",
    "        # drop day indicator from date column:\n",
    "        dataD['date'] = dataD['date'].dt.to_period('M').dt.to_timestamp()\n",
    "    else:\n",
    "        dataD['date'] = dataD['date'].dt.to_period('Y').dt.to_timestamp()\n",
    "        \n",
    "    #sum sales per month\n",
    "    dataD = dataD.groupby('date')['sales'].sum().reset_index()\n",
    "    \n",
    "    return dataD"
   ]
  },
  {
   "cell_type": "markdown",
   "id": "ef298567",
   "metadata": {},
   "source": [
    "Total sales for a given month across all stores : "
   ]
  },
  {
   "cell_type": "code",
   "execution_count": 6,
   "id": "0ec6e877",
   "metadata": {
    "scrolled": false
   },
   "outputs": [
    {
     "data": {
      "text/html": [
       "<div>\n",
       "<style scoped>\n",
       "    .dataframe tbody tr th:only-of-type {\n",
       "        vertical-align: middle;\n",
       "    }\n",
       "\n",
       "    .dataframe tbody tr th {\n",
       "        vertical-align: top;\n",
       "    }\n",
       "\n",
       "    .dataframe thead th {\n",
       "        text-align: right;\n",
       "    }\n",
       "</style>\n",
       "<table border=\"1\" class=\"dataframe\">\n",
       "  <thead>\n",
       "    <tr style=\"text-align: right;\">\n",
       "      <th></th>\n",
       "      <th>date</th>\n",
       "      <th>sales</th>\n",
       "    </tr>\n",
       "  </thead>\n",
       "  <tbody>\n",
       "    <tr>\n",
       "      <th>0</th>\n",
       "      <td>2013-01-01</td>\n",
       "      <td>454904</td>\n",
       "    </tr>\n",
       "    <tr>\n",
       "      <th>1</th>\n",
       "      <td>2013-02-01</td>\n",
       "      <td>459417</td>\n",
       "    </tr>\n",
       "    <tr>\n",
       "      <th>2</th>\n",
       "      <td>2013-03-01</td>\n",
       "      <td>617382</td>\n",
       "    </tr>\n",
       "    <tr>\n",
       "      <th>3</th>\n",
       "      <td>2013-04-01</td>\n",
       "      <td>682274</td>\n",
       "    </tr>\n",
       "    <tr>\n",
       "      <th>4</th>\n",
       "      <td>2013-05-01</td>\n",
       "      <td>763242</td>\n",
       "    </tr>\n",
       "    <tr>\n",
       "      <th>5</th>\n",
       "      <td>2013-06-01</td>\n",
       "      <td>795597</td>\n",
       "    </tr>\n",
       "    <tr>\n",
       "      <th>6</th>\n",
       "      <td>2013-07-01</td>\n",
       "      <td>855922</td>\n",
       "    </tr>\n",
       "    <tr>\n",
       "      <th>7</th>\n",
       "      <td>2013-08-01</td>\n",
       "      <td>766761</td>\n",
       "    </tr>\n",
       "    <tr>\n",
       "      <th>8</th>\n",
       "      <td>2013-09-01</td>\n",
       "      <td>689907</td>\n",
       "    </tr>\n",
       "    <tr>\n",
       "      <th>9</th>\n",
       "      <td>2013-10-01</td>\n",
       "      <td>656587</td>\n",
       "    </tr>\n",
       "    <tr>\n",
       "      <th>10</th>\n",
       "      <td>2013-11-01</td>\n",
       "      <td>692643</td>\n",
       "    </tr>\n",
       "    <tr>\n",
       "      <th>11</th>\n",
       "      <td>2013-12-01</td>\n",
       "      <td>506607</td>\n",
       "    </tr>\n",
       "  </tbody>\n",
       "</table>\n",
       "</div>"
      ],
      "text/plain": [
       "         date   sales\n",
       "0  2013-01-01  454904\n",
       "1  2013-02-01  459417\n",
       "2  2013-03-01  617382\n",
       "3  2013-04-01  682274\n",
       "4  2013-05-01  763242\n",
       "5  2013-06-01  795597\n",
       "6  2013-07-01  855922\n",
       "7  2013-08-01  766761\n",
       "8  2013-09-01  689907\n",
       "9  2013-10-01  656587\n",
       "10 2013-11-01  692643\n",
       "11 2013-12-01  506607"
      ]
     },
     "execution_count": 6,
     "metadata": {},
     "output_type": "execute_result"
    }
   ],
   "source": [
    "m_df = monthlyORyears_sales(df_s,\"monthly\")\n",
    "m_df.head(12)"
   ]
  },
  {
   "cell_type": "markdown",
   "id": "bfc626cb",
   "metadata": {},
   "source": [
    "Total sales for a given year across all the stores :"
   ]
  },
  {
   "cell_type": "code",
   "execution_count": 7,
   "id": "e49db26c",
   "metadata": {
    "scrolled": true
   },
   "outputs": [
    {
     "data": {
      "text/html": [
       "<div>\n",
       "<style scoped>\n",
       "    .dataframe tbody tr th:only-of-type {\n",
       "        vertical-align: middle;\n",
       "    }\n",
       "\n",
       "    .dataframe tbody tr th {\n",
       "        vertical-align: top;\n",
       "    }\n",
       "\n",
       "    .dataframe thead th {\n",
       "        text-align: right;\n",
       "    }\n",
       "</style>\n",
       "<table border=\"1\" class=\"dataframe\">\n",
       "  <thead>\n",
       "    <tr style=\"text-align: right;\">\n",
       "      <th></th>\n",
       "      <th>date</th>\n",
       "      <th>sales</th>\n",
       "    </tr>\n",
       "  </thead>\n",
       "  <tbody>\n",
       "    <tr>\n",
       "      <th>0</th>\n",
       "      <td>2013-01-01</td>\n",
       "      <td>7941243</td>\n",
       "    </tr>\n",
       "    <tr>\n",
       "      <th>1</th>\n",
       "      <td>2014-01-01</td>\n",
       "      <td>9135482</td>\n",
       "    </tr>\n",
       "    <tr>\n",
       "      <th>2</th>\n",
       "      <td>2015-01-01</td>\n",
       "      <td>9536887</td>\n",
       "    </tr>\n",
       "    <tr>\n",
       "      <th>3</th>\n",
       "      <td>2016-01-01</td>\n",
       "      <td>10357160</td>\n",
       "    </tr>\n",
       "    <tr>\n",
       "      <th>4</th>\n",
       "      <td>2017-01-01</td>\n",
       "      <td>10733740</td>\n",
       "    </tr>\n",
       "  </tbody>\n",
       "</table>\n",
       "</div>"
      ],
      "text/plain": [
       "        date     sales\n",
       "0 2013-01-01   7941243\n",
       "1 2014-01-01   9135482\n",
       "2 2015-01-01   9536887\n",
       "3 2016-01-01  10357160\n",
       "4 2017-01-01  10733740"
      ]
     },
     "execution_count": 7,
     "metadata": {},
     "output_type": "execute_result"
    }
   ],
   "source": [
    "y_df = monthlyORyears_sales(df_s,\"years\")\n",
    "y_df"
   ]
  },
  {
   "cell_type": "markdown",
   "id": "af4204c4",
   "metadata": {},
   "source": [
    "Visualization :"
   ]
  },
  {
   "cell_type": "code",
   "execution_count": 14,
   "id": "271a826d",
   "metadata": {
    "scrolled": false
   },
   "outputs": [
    {
     "data": {
      "text/plain": [
       "<matplotlib.legend.Legend at 0x2210e4f7c40>"
      ]
     },
     "execution_count": 14,
     "metadata": {},
     "output_type": "execute_result"
    },
    {
     "data": {
      "image/png": "[encoded data removed]",
      "text/plain": [
       "<Figure size 1200x500 with 2 Axes>"
      ]
     },
     "metadata": {},
     "output_type": "display_data"
    }
   ],
   "source": [
    "layout = (1,2)\n",
    "\n",
    "raw = plt.subplot2grid(layout,(0,0))\n",
    "law = plt.subplot2grid(layout,(0,1))\n",
    "\n",
    "years = y_df['sales'].plot(kind='bar',color='mediumblue',label='Sales',figsize=(12,5),ax=raw)\n",
    "months = m_df['sales'].plot(marker='o',color='darkorange',label=\"Sales\",ax=law)\n",
    "\n",
    "years.set(xlabel=\"Years\", title=\"Distribution of Sales Per Year\")\n",
    "months.set(xlabel=\"Months\", title=\"Distribution of Sales Per Month\")\n",
    "\n",
    "sns.despine()\n",
    "plt.tight_layout()\n",
    "\n",
    "years.legend()\n",
    "months.legend()"
   ]
  }
 ],
 "metadata": {
  "kernelspec": {
   "display_name": "Python 3 (ipykernel)",
   "language": "python",
   "name": "python3"
  },
  "language_info": {
   "codemirror_mode": {
    "name": "ipython",
    "version": 3
   },
   "file_extension": ".py",
   "mimetype": "text/x-python",
   "name": "python",
   "nbconvert_exporter": "python",
   "pygments_lexer": "ipython3",
   "version": "3.9.18"
  }
 },
 "nbformat": 4,
 "nbformat_minor": 5
}
